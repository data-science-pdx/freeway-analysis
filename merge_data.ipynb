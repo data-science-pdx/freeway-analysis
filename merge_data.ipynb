{
  "nbformat": 4,
  "nbformat_minor": 0,
  "metadata": {
    "colab": {
      "name": "merge_data.ipynb",
      "provenance": [],
      "collapsed_sections": []
    },
    "kernelspec": {
      "name": "python3",
      "display_name": "Python 3"
    }
  },
  "cells": [
    {
      "cell_type": "code",
      "metadata": {
        "id": "PWqZVzdzb5NY",
        "colab_type": "code",
        "colab": {
          "base_uri": "https://localhost:8080/",
          "height": 204
        },
        "outputId": "abc8cda4-1140-47ed-b381-2b2faf61db1e"
      },
      "source": [
        "!wget -P data https://raw.githubusercontent.com/data-science-pdx/playground/master/data/detector_metadata.csv"
      ],
      "execution_count": 1,
      "outputs": [
        {
          "output_type": "stream",
          "text": [
            "--2020-07-01 20:21:16--  https://raw.githubusercontent.com/data-science-pdx/playground/master/data/detector_metadata.csv\n",
            "Resolving raw.githubusercontent.com (raw.githubusercontent.com)... 151.101.0.133, 151.101.64.133, 151.101.128.133, ...\n",
            "Connecting to raw.githubusercontent.com (raw.githubusercontent.com)|151.101.0.133|:443... connected.\n",
            "HTTP request sent, awaiting response... 200 OK\n",
            "Length: 26060 (25K) [text/plain]\n",
            "Saving to: ‘data/detector_metadata.csv’\n",
            "\n",
            "\rdetector_metadata.c   0%[                    ]       0  --.-KB/s               \rdetector_metadata.c 100%[===================>]  25.45K  --.-KB/s    in 0.01s   \n",
            "\n",
            "2020-07-01 20:21:16 (2.06 MB/s) - ‘data/detector_metadata.csv’ saved [26060/26060]\n",
            "\n"
          ],
          "name": "stdout"
        }
      ]
    },
    {
      "cell_type": "code",
      "metadata": {
        "id": "wZoi89SncADH",
        "colab_type": "code",
        "colab": {
          "base_uri": "https://localhost:8080/",
          "height": 204
        },
        "outputId": "72221f0e-e856-4bb5-f7d1-69507332fd42"
      },
      "source": [
        "!wget -P data https://raw.githubusercontent.com/data-science-pdx/playground/master/data/station_metadata.csv "
      ],
      "execution_count": 2,
      "outputs": [
        {
          "output_type": "stream",
          "text": [
            "--2020-07-01 20:21:17--  https://raw.githubusercontent.com/data-science-pdx/playground/master/data/station_metadata.csv\n",
            "Resolving raw.githubusercontent.com (raw.githubusercontent.com)... 151.101.0.133, 151.101.64.133, 151.101.128.133, ...\n",
            "Connecting to raw.githubusercontent.com (raw.githubusercontent.com)|151.101.0.133|:443... connected.\n",
            "HTTP request sent, awaiting response... 200 OK\n",
            "Length: 32374 (32K) [text/plain]\n",
            "Saving to: ‘data/station_metadata.csv’\n",
            "\n",
            "\rstation_metadata.cs   0%[                    ]       0  --.-KB/s               \rstation_metadata.cs 100%[===================>]  31.62K  --.-KB/s    in 0.01s   \n",
            "\n",
            "2020-07-01 20:21:17 (2.35 MB/s) - ‘data/station_metadata.csv’ saved [32374/32374]\n",
            "\n"
          ],
          "name": "stdout"
        }
      ]
    },
    {
      "cell_type": "code",
      "metadata": {
        "id": "n5D_8iHscLy4",
        "colab_type": "code",
        "colab": {}
      },
      "source": [
        "import numpy as np\n",
        "import pandas as pd"
      ],
      "execution_count": 3,
      "outputs": []
    },
    {
      "cell_type": "code",
      "metadata": {
        "id": "6IFqkPPicMWY",
        "colab_type": "code",
        "colab": {}
      },
      "source": [
        "detector_dataset = pd.read_csv(\"/content/data/detector_metadata.csv\")\n",
        "station_dataset = pd.read_csv(\"/content/data/station_metadata.csv\")"
      ],
      "execution_count": 4,
      "outputs": []
    },
    {
      "cell_type": "code",
      "metadata": {
        "id": "Ima7noRicb-h",
        "colab_type": "code",
        "colab": {
          "base_uri": "https://localhost:8080/",
          "height": 34
        },
        "outputId": "23cd383e-50b1-424f-8fe9-0ec9905e0525"
      },
      "source": [
        "print(detector_dataset.columns.values)"
      ],
      "execution_count": 5,
      "outputs": [
        {
          "output_type": "stream",
          "text": [
            "['detectorid' 'stationid' 'milepost' 'lanenumber']\n"
          ],
          "name": "stdout"
        }
      ]
    },
    {
      "cell_type": "code",
      "metadata": {
        "id": "D3sayfpQccce",
        "colab_type": "code",
        "colab": {
          "base_uri": "https://localhost:8080/",
          "height": 34
        },
        "outputId": "239a2552-a54f-4b0a-cad2-fee6948a3291"
      },
      "source": [
        "print(station_dataset.columns.values)"
      ],
      "execution_count": 6,
      "outputs": [
        {
          "output_type": "stream",
          "text": [
            "['stationid' 'milepost' 'locationtext' 'length' 'x_coord' 'y_coord']\n"
          ],
          "name": "stdout"
        }
      ]
    },
    {
      "cell_type": "code",
      "metadata": {
        "id": "cbNRJdqCcnbs",
        "colab_type": "code",
        "colab": {
          "base_uri": "https://localhost:8080/",
          "height": 204
        },
        "outputId": "d58b287b-b293-4b4f-e3c9-80c0bd16e023"
      },
      "source": [
        "detector_dataset.head()"
      ],
      "execution_count": 7,
      "outputs": [
        {
          "output_type": "execute_result",
          "data": {
            "text/html": [
              "<div>\n",
              "<style scoped>\n",
              "    .dataframe tbody tr th:only-of-type {\n",
              "        vertical-align: middle;\n",
              "    }\n",
              "\n",
              "    .dataframe tbody tr th {\n",
              "        vertical-align: top;\n",
              "    }\n",
              "\n",
              "    .dataframe thead th {\n",
              "        text-align: right;\n",
              "    }\n",
              "</style>\n",
              "<table border=\"1\" class=\"dataframe\">\n",
              "  <thead>\n",
              "    <tr style=\"text-align: right;\">\n",
              "      <th></th>\n",
              "      <th>detectorid</th>\n",
              "      <th>stationid</th>\n",
              "      <th>milepost</th>\n",
              "      <th>lanenumber</th>\n",
              "    </tr>\n",
              "  </thead>\n",
              "  <tbody>\n",
              "    <tr>\n",
              "      <th>0</th>\n",
              "      <td>102017</td>\n",
              "      <td>5207</td>\n",
              "      <td>36.15</td>\n",
              "      <td>1</td>\n",
              "    </tr>\n",
              "    <tr>\n",
              "      <th>1</th>\n",
              "      <td>102018</td>\n",
              "      <td>5207</td>\n",
              "      <td>36.15</td>\n",
              "      <td>2</td>\n",
              "    </tr>\n",
              "    <tr>\n",
              "      <th>2</th>\n",
              "      <td>102019</td>\n",
              "      <td>5208</td>\n",
              "      <td>36.15</td>\n",
              "      <td>1</td>\n",
              "    </tr>\n",
              "    <tr>\n",
              "      <th>3</th>\n",
              "      <td>102020</td>\n",
              "      <td>5208</td>\n",
              "      <td>36.15</td>\n",
              "      <td>2</td>\n",
              "    </tr>\n",
              "    <tr>\n",
              "      <th>4</th>\n",
              "      <td>101766</td>\n",
              "      <td>10347</td>\n",
              "      <td>0.00</td>\n",
              "      <td>2</td>\n",
              "    </tr>\n",
              "  </tbody>\n",
              "</table>\n",
              "</div>"
            ],
            "text/plain": [
              "   detectorid  stationid  milepost  lanenumber\n",
              "0      102017       5207     36.15           1\n",
              "1      102018       5207     36.15           2\n",
              "2      102019       5208     36.15           1\n",
              "3      102020       5208     36.15           2\n",
              "4      101766      10347      0.00           2"
            ]
          },
          "metadata": {
            "tags": []
          },
          "execution_count": 7
        }
      ]
    },
    {
      "cell_type": "code",
      "metadata": {
        "id": "rADb14WWchu0",
        "colab_type": "code",
        "colab": {
          "base_uri": "https://localhost:8080/",
          "height": 204
        },
        "outputId": "b31d1dac-71ce-435b-cae8-9abae12febb4"
      },
      "source": [
        "station_dataset.head()"
      ],
      "execution_count": 8,
      "outputs": [
        {
          "output_type": "execute_result",
          "data": {
            "text/html": [
              "<div>\n",
              "<style scoped>\n",
              "    .dataframe tbody tr th:only-of-type {\n",
              "        vertical-align: middle;\n",
              "    }\n",
              "\n",
              "    .dataframe tbody tr th {\n",
              "        vertical-align: top;\n",
              "    }\n",
              "\n",
              "    .dataframe thead th {\n",
              "        text-align: right;\n",
              "    }\n",
              "</style>\n",
              "<table border=\"1\" class=\"dataframe\">\n",
              "  <thead>\n",
              "    <tr style=\"text-align: right;\">\n",
              "      <th></th>\n",
              "      <th>stationid</th>\n",
              "      <th>milepost</th>\n",
              "      <th>locationtext</th>\n",
              "      <th>length</th>\n",
              "      <th>x_coord</th>\n",
              "      <th>y_coord</th>\n",
              "    </tr>\n",
              "  </thead>\n",
              "  <tbody>\n",
              "    <tr>\n",
              "      <th>0</th>\n",
              "      <td>5208</td>\n",
              "      <td>36.15</td>\n",
              "      <td>Salmon CR SB</td>\n",
              "      <td>NaN</td>\n",
              "      <td>-122.640267</td>\n",
              "      <td>45.71191</td>\n",
              "    </tr>\n",
              "    <tr>\n",
              "      <th>1</th>\n",
              "      <td>3154</td>\n",
              "      <td>0.25</td>\n",
              "      <td>Wilshire (2DS043) @ SB OR 217 MP0.25</td>\n",
              "      <td>0.185</td>\n",
              "      <td>-122.780430</td>\n",
              "      <td>45.50622</td>\n",
              "    </tr>\n",
              "    <tr>\n",
              "      <th>2</th>\n",
              "      <td>10522</td>\n",
              "      <td>304.40</td>\n",
              "      <td>Alberta HOV (2R003) to NB I-5</td>\n",
              "      <td>0.620</td>\n",
              "      <td>-122.678140</td>\n",
              "      <td>45.56172</td>\n",
              "    </tr>\n",
              "    <tr>\n",
              "      <th>3</th>\n",
              "      <td>10285</td>\n",
              "      <td>6.70</td>\n",
              "      <td>102nd off-ramp (2DS020) @ EB I-84 MP6.7</td>\n",
              "      <td>31.745</td>\n",
              "      <td>-122.558890</td>\n",
              "      <td>45.54448</td>\n",
              "    </tr>\n",
              "    <tr>\n",
              "      <th>4</th>\n",
              "      <td>10358</td>\n",
              "      <td>5.82</td>\n",
              "      <td>Halsey off-ramp (2DS019) @ EB I-84 MP5.82</td>\n",
              "      <td>0.940</td>\n",
              "      <td>-122.565900</td>\n",
              "      <td>45.53213</td>\n",
              "    </tr>\n",
              "  </tbody>\n",
              "</table>\n",
              "</div>"
            ],
            "text/plain": [
              "   stationid  milepost  ...     x_coord   y_coord\n",
              "0       5208     36.15  ... -122.640267  45.71191\n",
              "1       3154      0.25  ... -122.780430  45.50622\n",
              "2      10522    304.40  ... -122.678140  45.56172\n",
              "3      10285      6.70  ... -122.558890  45.54448\n",
              "4      10358      5.82  ... -122.565900  45.53213\n",
              "\n",
              "[5 rows x 6 columns]"
            ]
          },
          "metadata": {
            "tags": []
          },
          "execution_count": 8
        }
      ]
    },
    {
      "cell_type": "code",
      "metadata": {
        "id": "EXAfTWXymepV",
        "colab_type": "code",
        "colab": {
          "base_uri": "https://localhost:8080/",
          "height": 297
        },
        "outputId": "f1a2f0e7-3adf-4641-de2c-a5c0669f14be"
      },
      "source": [
        "station_dataset.describe()"
      ],
      "execution_count": 9,
      "outputs": [
        {
          "output_type": "execute_result",
          "data": {
            "text/html": [
              "<div>\n",
              "<style scoped>\n",
              "    .dataframe tbody tr th:only-of-type {\n",
              "        vertical-align: middle;\n",
              "    }\n",
              "\n",
              "    .dataframe tbody tr th {\n",
              "        vertical-align: top;\n",
              "    }\n",
              "\n",
              "    .dataframe thead th {\n",
              "        text-align: right;\n",
              "    }\n",
              "</style>\n",
              "<table border=\"1\" class=\"dataframe\">\n",
              "  <thead>\n",
              "    <tr style=\"text-align: right;\">\n",
              "      <th></th>\n",
              "      <th>stationid</th>\n",
              "      <th>milepost</th>\n",
              "      <th>length</th>\n",
              "      <th>x_coord</th>\n",
              "      <th>y_coord</th>\n",
              "    </tr>\n",
              "  </thead>\n",
              "  <tbody>\n",
              "    <tr>\n",
              "      <th>count</th>\n",
              "      <td>515.000000</td>\n",
              "      <td>515.000000</td>\n",
              "      <td>514.000000</td>\n",
              "      <td>515.000000</td>\n",
              "      <td>515.000000</td>\n",
              "    </tr>\n",
              "    <tr>\n",
              "      <th>mean</th>\n",
              "      <td>5147.266019</td>\n",
              "      <td>70.117165</td>\n",
              "      <td>2.614922</td>\n",
              "      <td>-122.583641</td>\n",
              "      <td>45.494298</td>\n",
              "    </tr>\n",
              "    <tr>\n",
              "      <th>std</th>\n",
              "      <td>4242.442043</td>\n",
              "      <td>105.434393</td>\n",
              "      <td>13.263467</td>\n",
              "      <td>0.534833</td>\n",
              "      <td>0.471516</td>\n",
              "    </tr>\n",
              "    <tr>\n",
              "      <th>min</th>\n",
              "      <td>230.000000</td>\n",
              "      <td>0.000000</td>\n",
              "      <td>0.090000</td>\n",
              "      <td>-123.160360</td>\n",
              "      <td>42.008730</td>\n",
              "    </tr>\n",
              "    <tr>\n",
              "      <th>25%</th>\n",
              "      <td>1140.500000</td>\n",
              "      <td>5.015000</td>\n",
              "      <td>0.500000</td>\n",
              "      <td>-122.742010</td>\n",
              "      <td>45.435510</td>\n",
              "    </tr>\n",
              "    <tr>\n",
              "      <th>50%</th>\n",
              "      <td>3137.000000</td>\n",
              "      <td>16.200000</td>\n",
              "      <td>0.735000</td>\n",
              "      <td>-122.664433</td>\n",
              "      <td>45.528880</td>\n",
              "    </tr>\n",
              "    <tr>\n",
              "      <th>75%</th>\n",
              "      <td>10398.500000</td>\n",
              "      <td>70.945000</td>\n",
              "      <td>1.003750</td>\n",
              "      <td>-122.566690</td>\n",
              "      <td>45.612335</td>\n",
              "    </tr>\n",
              "    <tr>\n",
              "      <th>max</th>\n",
              "      <td>10607.000000</td>\n",
              "      <td>307.920000</td>\n",
              "      <td>150.135000</td>\n",
              "      <td>-117.817060</td>\n",
              "      <td>46.765581</td>\n",
              "    </tr>\n",
              "  </tbody>\n",
              "</table>\n",
              "</div>"
            ],
            "text/plain": [
              "          stationid    milepost      length     x_coord     y_coord\n",
              "count    515.000000  515.000000  514.000000  515.000000  515.000000\n",
              "mean    5147.266019   70.117165    2.614922 -122.583641   45.494298\n",
              "std     4242.442043  105.434393   13.263467    0.534833    0.471516\n",
              "min      230.000000    0.000000    0.090000 -123.160360   42.008730\n",
              "25%     1140.500000    5.015000    0.500000 -122.742010   45.435510\n",
              "50%     3137.000000   16.200000    0.735000 -122.664433   45.528880\n",
              "75%    10398.500000   70.945000    1.003750 -122.566690   45.612335\n",
              "max    10607.000000  307.920000  150.135000 -117.817060   46.765581"
            ]
          },
          "metadata": {
            "tags": []
          },
          "execution_count": 9
        }
      ]
    },
    {
      "cell_type": "code",
      "metadata": {
        "id": "XQcn6OEVn4No",
        "colab_type": "code",
        "colab": {
          "base_uri": "https://localhost:8080/",
          "height": 419
        },
        "outputId": "5e763e63-e57c-4e22-ccae-d639ed50a11b"
      },
      "source": [
        "station_dataset.join(detector_dataset, lsuffix='_station', rsuffix='_detector')"
      ],
      "execution_count": 10,
      "outputs": [
        {
          "output_type": "execute_result",
          "data": {
            "text/html": [
              "<div>\n",
              "<style scoped>\n",
              "    .dataframe tbody tr th:only-of-type {\n",
              "        vertical-align: middle;\n",
              "    }\n",
              "\n",
              "    .dataframe tbody tr th {\n",
              "        vertical-align: top;\n",
              "    }\n",
              "\n",
              "    .dataframe thead th {\n",
              "        text-align: right;\n",
              "    }\n",
              "</style>\n",
              "<table border=\"1\" class=\"dataframe\">\n",
              "  <thead>\n",
              "    <tr style=\"text-align: right;\">\n",
              "      <th></th>\n",
              "      <th>stationid_station</th>\n",
              "      <th>milepost_station</th>\n",
              "      <th>locationtext</th>\n",
              "      <th>length</th>\n",
              "      <th>x_coord</th>\n",
              "      <th>y_coord</th>\n",
              "      <th>detectorid</th>\n",
              "      <th>stationid_detector</th>\n",
              "      <th>milepost_detector</th>\n",
              "      <th>lanenumber</th>\n",
              "    </tr>\n",
              "  </thead>\n",
              "  <tbody>\n",
              "    <tr>\n",
              "      <th>0</th>\n",
              "      <td>5208</td>\n",
              "      <td>36.15</td>\n",
              "      <td>Salmon CR SB</td>\n",
              "      <td>NaN</td>\n",
              "      <td>-122.640267</td>\n",
              "      <td>45.711910</td>\n",
              "      <td>102017</td>\n",
              "      <td>5207</td>\n",
              "      <td>36.15</td>\n",
              "      <td>1</td>\n",
              "    </tr>\n",
              "    <tr>\n",
              "      <th>1</th>\n",
              "      <td>3154</td>\n",
              "      <td>0.25</td>\n",
              "      <td>Wilshire (2DS043) @ SB OR 217 MP0.25</td>\n",
              "      <td>0.185</td>\n",
              "      <td>-122.780430</td>\n",
              "      <td>45.506220</td>\n",
              "      <td>102018</td>\n",
              "      <td>5207</td>\n",
              "      <td>36.15</td>\n",
              "      <td>2</td>\n",
              "    </tr>\n",
              "    <tr>\n",
              "      <th>2</th>\n",
              "      <td>10522</td>\n",
              "      <td>304.40</td>\n",
              "      <td>Alberta HOV (2R003) to NB I-5</td>\n",
              "      <td>0.620</td>\n",
              "      <td>-122.678140</td>\n",
              "      <td>45.561720</td>\n",
              "      <td>102019</td>\n",
              "      <td>5208</td>\n",
              "      <td>36.15</td>\n",
              "      <td>1</td>\n",
              "    </tr>\n",
              "    <tr>\n",
              "      <th>3</th>\n",
              "      <td>10285</td>\n",
              "      <td>6.70</td>\n",
              "      <td>102nd off-ramp (2DS020) @ EB I-84 MP6.7</td>\n",
              "      <td>31.745</td>\n",
              "      <td>-122.558890</td>\n",
              "      <td>45.544480</td>\n",
              "      <td>102020</td>\n",
              "      <td>5208</td>\n",
              "      <td>36.15</td>\n",
              "      <td>2</td>\n",
              "    </tr>\n",
              "    <tr>\n",
              "      <th>4</th>\n",
              "      <td>10358</td>\n",
              "      <td>5.82</td>\n",
              "      <td>Halsey off-ramp (2DS019) @ EB I-84 MP5.82</td>\n",
              "      <td>0.940</td>\n",
              "      <td>-122.565900</td>\n",
              "      <td>45.532130</td>\n",
              "      <td>101766</td>\n",
              "      <td>10347</td>\n",
              "      <td>0.00</td>\n",
              "      <td>2</td>\n",
              "    </tr>\n",
              "    <tr>\n",
              "      <th>...</th>\n",
              "      <td>...</td>\n",
              "      <td>...</td>\n",
              "      <td>...</td>\n",
              "      <td>...</td>\n",
              "      <td>...</td>\n",
              "      <td>...</td>\n",
              "      <td>...</td>\n",
              "      <td>...</td>\n",
              "      <td>...</td>\n",
              "      <td>...</td>\n",
              "    </tr>\n",
              "    <tr>\n",
              "      <th>510</th>\n",
              "      <td>1526</td>\n",
              "      <td>4.32</td>\n",
              "      <td>Lieser WB</td>\n",
              "      <td>0.620</td>\n",
              "      <td>-122.586248</td>\n",
              "      <td>45.611337</td>\n",
              "      <td>101178</td>\n",
              "      <td>3148</td>\n",
              "      <td>14.40</td>\n",
              "      <td>2</td>\n",
              "    </tr>\n",
              "    <tr>\n",
              "      <th>511</th>\n",
              "      <td>1641</td>\n",
              "      <td>33.45</td>\n",
              "      <td>Andresen</td>\n",
              "      <td>0.720</td>\n",
              "      <td>-122.601211</td>\n",
              "      <td>45.687703</td>\n",
              "      <td>101179</td>\n",
              "      <td>3148</td>\n",
              "      <td>14.40</td>\n",
              "      <td>1</td>\n",
              "    </tr>\n",
              "    <tr>\n",
              "      <th>512</th>\n",
              "      <td>1639</td>\n",
              "      <td>31.53</td>\n",
              "      <td>NE 58th</td>\n",
              "      <td>0.640</td>\n",
              "      <td>-122.577402</td>\n",
              "      <td>45.664477</td>\n",
              "      <td>101174</td>\n",
              "      <td>3146</td>\n",
              "      <td>13.04</td>\n",
              "      <td>3</td>\n",
              "    </tr>\n",
              "    <tr>\n",
              "      <th>513</th>\n",
              "      <td>1536</td>\n",
              "      <td>34.81</td>\n",
              "      <td>50th</td>\n",
              "      <td>0.635</td>\n",
              "      <td>-122.620197</td>\n",
              "      <td>45.699144</td>\n",
              "      <td>101175</td>\n",
              "      <td>3146</td>\n",
              "      <td>13.04</td>\n",
              "      <td>2</td>\n",
              "    </tr>\n",
              "    <tr>\n",
              "      <th>514</th>\n",
              "      <td>1537</td>\n",
              "      <td>35.62</td>\n",
              "      <td>119th</td>\n",
              "      <td>0.930</td>\n",
              "      <td>-122.632189</td>\n",
              "      <td>45.707255</td>\n",
              "      <td>101176</td>\n",
              "      <td>3146</td>\n",
              "      <td>13.04</td>\n",
              "      <td>1</td>\n",
              "    </tr>\n",
              "  </tbody>\n",
              "</table>\n",
              "<p>515 rows × 10 columns</p>\n",
              "</div>"
            ],
            "text/plain": [
              "     stationid_station  milepost_station  ... milepost_detector  lanenumber\n",
              "0                 5208             36.15  ...             36.15           1\n",
              "1                 3154              0.25  ...             36.15           2\n",
              "2                10522            304.40  ...             36.15           1\n",
              "3                10285              6.70  ...             36.15           2\n",
              "4                10358              5.82  ...              0.00           2\n",
              "..                 ...               ...  ...               ...         ...\n",
              "510               1526              4.32  ...             14.40           2\n",
              "511               1641             33.45  ...             14.40           1\n",
              "512               1639             31.53  ...             13.04           3\n",
              "513               1536             34.81  ...             13.04           2\n",
              "514               1537             35.62  ...             13.04           1\n",
              "\n",
              "[515 rows x 10 columns]"
            ]
          },
          "metadata": {
            "tags": []
          },
          "execution_count": 10
        }
      ]
    },
    {
      "cell_type": "code",
      "metadata": {
        "id": "XG0LvoUGnlm3",
        "colab_type": "code",
        "colab": {}
      },
      "source": [
        "dataset = station_dataset.join(detector_dataset, lsuffix='_station', rsuffix='_detector')"
      ],
      "execution_count": 11,
      "outputs": []
    },
    {
      "cell_type": "code",
      "metadata": {
        "id": "6MXcY2XfpH1y",
        "colab_type": "code",
        "colab": {}
      },
      "source": [
        "dataset.to_csv(\"/content/data/merged_metadata.csv\")"
      ],
      "execution_count": 12,
      "outputs": []
    }
  ]
}