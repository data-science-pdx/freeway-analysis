{
  "nbformat": 4,
  "nbformat_minor": 0,
  "metadata": {
    "colab": {
      "name": "data analysis",
      "provenance": [],
      "collapsed_sections": [],
      "toc_visible": true,
      "authorship_tag": "ABX9TyPLRE60BZwbRLkz+M1tvVLG",
      "include_colab_link": true
    },
    "kernelspec": {
      "name": "python3",
      "display_name": "Python 3"
    }
  },
  "cells": [
    {
      "cell_type": "markdown",
      "metadata": {
        "id": "view-in-github",
        "colab_type": "text"
      },
      "source": [
        "<a href=\"https://colab.research.google.com/github/ronniesong0809/freeway-data/blob/master/data_analysis.ipynb\" target=\"_parent\"><img src=\"https://colab.research.google.com/assets/colab-badge.svg\" alt=\"Open In Colab\"/></a>"
      ]
    },
    {
      "cell_type": "code",
      "metadata": {
        "id": "5HgxSOWLsFKW",
        "colab_type": "code",
        "colab": {
          "base_uri": "https://localhost:8080/",
          "height": 204
        },
        "outputId": "d40b4a60-649d-474d-996c-8d551c4b69ee"
      },
      "source": [
        "!wget https://portal.its.pdx.edu/static/files/fhwa/FreewayData.zip"
      ],
      "execution_count": null,
      "outputs": [
        {
          "output_type": "stream",
          "text": [
            "--2020-06-30 07:16:33--  https://portal.its.pdx.edu/static/files/fhwa/FreewayData.zip\n",
            "Resolving portal.its.pdx.edu (portal.its.pdx.edu)... 131.252.209.4, 2610:10:20:209::4\n",
            "Connecting to portal.its.pdx.edu (portal.its.pdx.edu)|131.252.209.4|:443... connected.\n",
            "HTTP request sent, awaiting response... 200 OK\n",
            "Length: 102227389 (97M) [application/zip]\n",
            "Saving to: ‘FreewayData.zip’\n",
            "\n",
            "FreewayData.zip     100%[===================>]  97.49M  5.10MB/s    in 18s     \n",
            "\n",
            "2020-06-30 07:16:51 (5.42 MB/s) - ‘FreewayData.zip’ saved [102227389/102227389]\n",
            "\n"
          ],
          "name": "stdout"
        }
      ]
    },
    {
      "cell_type": "code",
      "metadata": {
        "id": "JNEl8SBAs5gM",
        "colab_type": "code",
        "colab": {
          "base_uri": "https://localhost:8080/",
          "height": 170
        },
        "outputId": "3e6e6ba1-af11-4fdf-c710-cd4753a1be09"
      },
      "source": [
        "!unzip FreewayData.zip -d data"
      ],
      "execution_count": null,
      "outputs": [
        {
          "output_type": "stream",
          "text": [
            "Archive:  FreewayData.zip\n",
            " extracting: data/FreewayData/arterial.zip  \n",
            "  inflating: data/FreewayData/freeway_detectors.csv  \n",
            "  inflating: data/FreewayData/freeway_loopdata.csv  \n",
            "  inflating: data/FreewayData/freeway_loopdata15min.csv  \n",
            "  inflating: data/FreewayData/freeway_loopdata1hr.csv  \n",
            "  inflating: data/FreewayData/freeway_loopdata5min.csv  \n",
            "  inflating: data/FreewayData/freeway_stations.csv  \n",
            "  inflating: data/FreewayData/highways.csv  \n"
          ],
          "name": "stdout"
        }
      ]
    },
    {
      "cell_type": "code",
      "metadata": {
        "id": "SnEs4bnRtXx6",
        "colab_type": "code",
        "colab": {}
      },
      "source": [
        "import numpy as np\n",
        "import pandas as pd\n",
        "import matplotlib.pyplot as plt\n",
        "import seaborn as sns\n",
        "import missingno as msno"
      ],
      "execution_count": 125,
      "outputs": []
    },
    {
      "cell_type": "code",
      "metadata": {
        "id": "jirRD1vxtkCk",
        "colab_type": "code",
        "colab": {}
      },
      "source": [
        "data = pd.read_csv(\"/content/data/FreewayData/freeway_loopdata1hr.csv\")"
      ],
      "execution_count": 126,
      "outputs": []
    },
    {
      "cell_type": "code",
      "metadata": {
        "id": "h0AMV09Jl8qp",
        "colab_type": "code",
        "colab": {
          "base_uri": "https://localhost:8080/",
          "height": 51
        },
        "outputId": "6142fd16-1e9c-4879-beac-b5c19aa0dbab"
      },
      "source": [
        "print(data.columns.values)"
      ],
      "execution_count": 127,
      "outputs": [
        {
          "output_type": "stream",
          "text": [
            "['detectorid' 'starttime' 'volume' 'speed' 'occupancy' 'countreadings'\n",
            " 'vmt' 'vht' 'delay' 'traveltime']\n"
          ],
          "name": "stdout"
        }
      ]
    },
    {
      "cell_type": "code",
      "metadata": {
        "id": "MYTMRJGGtunp",
        "colab_type": "code",
        "colab": {
          "base_uri": "https://localhost:8080/",
          "height": 204
        },
        "outputId": "0a436ca1-8e63-4462-ee65-24d9efce1593"
      },
      "source": [
        "data.head()"
      ],
      "execution_count": 128,
      "outputs": [
        {
          "output_type": "execute_result",
          "data": {
            "text/html": [
              "<div>\n",
              "<style scoped>\n",
              "    .dataframe tbody tr th:only-of-type {\n",
              "        vertical-align: middle;\n",
              "    }\n",
              "\n",
              "    .dataframe tbody tr th {\n",
              "        vertical-align: top;\n",
              "    }\n",
              "\n",
              "    .dataframe thead th {\n",
              "        text-align: right;\n",
              "    }\n",
              "</style>\n",
              "<table border=\"1\" class=\"dataframe\">\n",
              "  <thead>\n",
              "    <tr style=\"text-align: right;\">\n",
              "      <th></th>\n",
              "      <th>detectorid</th>\n",
              "      <th>starttime</th>\n",
              "      <th>volume</th>\n",
              "      <th>speed</th>\n",
              "      <th>occupancy</th>\n",
              "      <th>countreadings</th>\n",
              "      <th>vmt</th>\n",
              "      <th>vht</th>\n",
              "      <th>delay</th>\n",
              "      <th>traveltime</th>\n",
              "    </tr>\n",
              "  </thead>\n",
              "  <tbody>\n",
              "    <tr>\n",
              "      <th>0</th>\n",
              "      <td>1345</td>\n",
              "      <td>2011-09-15 04:00:00-07</td>\n",
              "      <td>20</td>\n",
              "      <td>59.15</td>\n",
              "      <td>0.11</td>\n",
              "      <td>46</td>\n",
              "      <td>18.80</td>\n",
              "      <td>0.32</td>\n",
              "      <td>0.01</td>\n",
              "      <td>0.95</td>\n",
              "    </tr>\n",
              "    <tr>\n",
              "      <th>1</th>\n",
              "      <td>1345</td>\n",
              "      <td>2011-09-15 15:00:00-07</td>\n",
              "      <td>1431</td>\n",
              "      <td>60.27</td>\n",
              "      <td>7.60</td>\n",
              "      <td>180</td>\n",
              "      <td>1345.14</td>\n",
              "      <td>22.32</td>\n",
              "      <td>0.00</td>\n",
              "      <td>0.94</td>\n",
              "    </tr>\n",
              "    <tr>\n",
              "      <th>2</th>\n",
              "      <td>1345</td>\n",
              "      <td>2011-09-15 16:00:00-07</td>\n",
              "      <td>1190</td>\n",
              "      <td>50.60</td>\n",
              "      <td>8.52</td>\n",
              "      <td>180</td>\n",
              "      <td>1118.60</td>\n",
              "      <td>22.11</td>\n",
              "      <td>0.17</td>\n",
              "      <td>1.11</td>\n",
              "    </tr>\n",
              "    <tr>\n",
              "      <th>3</th>\n",
              "      <td>1345</td>\n",
              "      <td>2011-09-15 17:00:00-07</td>\n",
              "      <td>1446</td>\n",
              "      <td>58.73</td>\n",
              "      <td>8.11</td>\n",
              "      <td>180</td>\n",
              "      <td>1359.24</td>\n",
              "      <td>23.14</td>\n",
              "      <td>0.02</td>\n",
              "      <td>0.96</td>\n",
              "    </tr>\n",
              "    <tr>\n",
              "      <th>4</th>\n",
              "      <td>1345</td>\n",
              "      <td>2011-09-16 01:00:00-07</td>\n",
              "      <td>24</td>\n",
              "      <td>59.29</td>\n",
              "      <td>0.03</td>\n",
              "      <td>179</td>\n",
              "      <td>22.56</td>\n",
              "      <td>0.38</td>\n",
              "      <td>0.01</td>\n",
              "      <td>0.95</td>\n",
              "    </tr>\n",
              "  </tbody>\n",
              "</table>\n",
              "</div>"
            ],
            "text/plain": [
              "   detectorid               starttime  volume  ...    vht  delay  traveltime\n",
              "0        1345  2011-09-15 04:00:00-07      20  ...   0.32   0.01        0.95\n",
              "1        1345  2011-09-15 15:00:00-07    1431  ...  22.32   0.00        0.94\n",
              "2        1345  2011-09-15 16:00:00-07    1190  ...  22.11   0.17        1.11\n",
              "3        1345  2011-09-15 17:00:00-07    1446  ...  23.14   0.02        0.96\n",
              "4        1345  2011-09-16 01:00:00-07      24  ...   0.38   0.01        0.95\n",
              "\n",
              "[5 rows x 10 columns]"
            ]
          },
          "metadata": {
            "tags": []
          },
          "execution_count": 128
        }
      ]
    },
    {
      "cell_type": "code",
      "metadata": {
        "id": "ZMf7CXztmA8D",
        "colab_type": "code",
        "colab": {
          "base_uri": "https://localhost:8080/",
          "height": 204
        },
        "outputId": "8cf289b4-dbd2-47ac-f64d-b62ea7fa0936"
      },
      "source": [
        "data.tail()"
      ],
      "execution_count": 129,
      "outputs": [
        {
          "output_type": "execute_result",
          "data": {
            "text/html": [
              "<div>\n",
              "<style scoped>\n",
              "    .dataframe tbody tr th:only-of-type {\n",
              "        vertical-align: middle;\n",
              "    }\n",
              "\n",
              "    .dataframe tbody tr th {\n",
              "        vertical-align: top;\n",
              "    }\n",
              "\n",
              "    .dataframe thead th {\n",
              "        text-align: right;\n",
              "    }\n",
              "</style>\n",
              "<table border=\"1\" class=\"dataframe\">\n",
              "  <thead>\n",
              "    <tr style=\"text-align: right;\">\n",
              "      <th></th>\n",
              "      <th>detectorid</th>\n",
              "      <th>starttime</th>\n",
              "      <th>volume</th>\n",
              "      <th>speed</th>\n",
              "      <th>occupancy</th>\n",
              "      <th>countreadings</th>\n",
              "      <th>vmt</th>\n",
              "      <th>vht</th>\n",
              "      <th>delay</th>\n",
              "      <th>traveltime</th>\n",
              "    </tr>\n",
              "  </thead>\n",
              "  <tbody>\n",
              "    <tr>\n",
              "      <th>94852</th>\n",
              "      <td>1954</td>\n",
              "      <td>2011-11-13 23:00:00-08</td>\n",
              "      <td>407</td>\n",
              "      <td>60.85</td>\n",
              "      <td>1.74</td>\n",
              "      <td>180</td>\n",
              "      <td>622.71</td>\n",
              "      <td>10.23</td>\n",
              "      <td>0.0</td>\n",
              "      <td>1.51</td>\n",
              "    </tr>\n",
              "    <tr>\n",
              "      <th>94853</th>\n",
              "      <td>1954</td>\n",
              "      <td>2011-11-14 03:00:00-08</td>\n",
              "      <td>127</td>\n",
              "      <td>60.58</td>\n",
              "      <td>0.47</td>\n",
              "      <td>180</td>\n",
              "      <td>194.31</td>\n",
              "      <td>3.21</td>\n",
              "      <td>0.0</td>\n",
              "      <td>1.52</td>\n",
              "    </tr>\n",
              "    <tr>\n",
              "      <th>94854</th>\n",
              "      <td>1954</td>\n",
              "      <td>2011-11-15 01:00:00-08</td>\n",
              "      <td>131</td>\n",
              "      <td>60.29</td>\n",
              "      <td>0.55</td>\n",
              "      <td>179</td>\n",
              "      <td>200.43</td>\n",
              "      <td>3.32</td>\n",
              "      <td>0.0</td>\n",
              "      <td>1.52</td>\n",
              "    </tr>\n",
              "    <tr>\n",
              "      <th>94855</th>\n",
              "      <td>1954</td>\n",
              "      <td>2011-11-15 02:00:00-08</td>\n",
              "      <td>120</td>\n",
              "      <td>61.40</td>\n",
              "      <td>0.40</td>\n",
              "      <td>180</td>\n",
              "      <td>183.60</td>\n",
              "      <td>2.99</td>\n",
              "      <td>0.0</td>\n",
              "      <td>1.50</td>\n",
              "    </tr>\n",
              "    <tr>\n",
              "      <th>94856</th>\n",
              "      <td>1954</td>\n",
              "      <td>2011-11-15 05:00:00-08</td>\n",
              "      <td>601</td>\n",
              "      <td>60.33</td>\n",
              "      <td>3.37</td>\n",
              "      <td>180</td>\n",
              "      <td>919.53</td>\n",
              "      <td>15.24</td>\n",
              "      <td>0.0</td>\n",
              "      <td>1.52</td>\n",
              "    </tr>\n",
              "  </tbody>\n",
              "</table>\n",
              "</div>"
            ],
            "text/plain": [
              "       detectorid               starttime  volume  ...    vht  delay  traveltime\n",
              "94852        1954  2011-11-13 23:00:00-08     407  ...  10.23    0.0        1.51\n",
              "94853        1954  2011-11-14 03:00:00-08     127  ...   3.21    0.0        1.52\n",
              "94854        1954  2011-11-15 01:00:00-08     131  ...   3.32    0.0        1.52\n",
              "94855        1954  2011-11-15 02:00:00-08     120  ...   2.99    0.0        1.50\n",
              "94856        1954  2011-11-15 05:00:00-08     601  ...  15.24    0.0        1.52\n",
              "\n",
              "[5 rows x 10 columns]"
            ]
          },
          "metadata": {
            "tags": []
          },
          "execution_count": 129
        }
      ]
    },
    {
      "cell_type": "code",
      "metadata": {
        "id": "EJnOKWUmmXru",
        "colab_type": "code",
        "colab": {
          "base_uri": "https://localhost:8080/",
          "height": 173
        },
        "outputId": "60fcd9b1-e5c5-4a35-f690-f5d238cfd6d7"
      },
      "source": [
        "data.describe(include=['O'])"
      ],
      "execution_count": 130,
      "outputs": [
        {
          "output_type": "execute_result",
          "data": {
            "text/html": [
              "<div>\n",
              "<style scoped>\n",
              "    .dataframe tbody tr th:only-of-type {\n",
              "        vertical-align: middle;\n",
              "    }\n",
              "\n",
              "    .dataframe tbody tr th {\n",
              "        vertical-align: top;\n",
              "    }\n",
              "\n",
              "    .dataframe thead th {\n",
              "        text-align: right;\n",
              "    }\n",
              "</style>\n",
              "<table border=\"1\" class=\"dataframe\">\n",
              "  <thead>\n",
              "    <tr style=\"text-align: right;\">\n",
              "      <th></th>\n",
              "      <th>starttime</th>\n",
              "    </tr>\n",
              "  </thead>\n",
              "  <tbody>\n",
              "    <tr>\n",
              "      <th>count</th>\n",
              "      <td>94857</td>\n",
              "    </tr>\n",
              "    <tr>\n",
              "      <th>unique</th>\n",
              "      <td>1473</td>\n",
              "    </tr>\n",
              "    <tr>\n",
              "      <th>top</th>\n",
              "      <td>2011-10-11 10:00:00-07</td>\n",
              "    </tr>\n",
              "    <tr>\n",
              "      <th>freq</th>\n",
              "      <td>69</td>\n",
              "    </tr>\n",
              "  </tbody>\n",
              "</table>\n",
              "</div>"
            ],
            "text/plain": [
              "                     starttime\n",
              "count                    94857\n",
              "unique                    1473\n",
              "top     2011-10-11 10:00:00-07\n",
              "freq                        69"
            ]
          },
          "metadata": {
            "tags": []
          },
          "execution_count": 130
        }
      ]
    },
    {
      "cell_type": "code",
      "metadata": {
        "id": "v4uZwaeZt2v-",
        "colab_type": "code",
        "colab": {
          "base_uri": "https://localhost:8080/",
          "height": 297
        },
        "outputId": "a1e69258-84bc-48ed-d97d-04c3a6fb928a"
      },
      "source": [
        "data.describe()"
      ],
      "execution_count": 131,
      "outputs": [
        {
          "output_type": "execute_result",
          "data": {
            "text/html": [
              "<div>\n",
              "<style scoped>\n",
              "    .dataframe tbody tr th:only-of-type {\n",
              "        vertical-align: middle;\n",
              "    }\n",
              "\n",
              "    .dataframe tbody tr th {\n",
              "        vertical-align: top;\n",
              "    }\n",
              "\n",
              "    .dataframe thead th {\n",
              "        text-align: right;\n",
              "    }\n",
              "</style>\n",
              "<table border=\"1\" class=\"dataframe\">\n",
              "  <thead>\n",
              "    <tr style=\"text-align: right;\">\n",
              "      <th></th>\n",
              "      <th>detectorid</th>\n",
              "      <th>volume</th>\n",
              "      <th>speed</th>\n",
              "      <th>occupancy</th>\n",
              "      <th>countreadings</th>\n",
              "      <th>vmt</th>\n",
              "      <th>vht</th>\n",
              "      <th>delay</th>\n",
              "      <th>traveltime</th>\n",
              "    </tr>\n",
              "  </thead>\n",
              "  <tbody>\n",
              "    <tr>\n",
              "      <th>count</th>\n",
              "      <td>94857.000000</td>\n",
              "      <td>94857.000000</td>\n",
              "      <td>92212.000000</td>\n",
              "      <td>94857.000000</td>\n",
              "      <td>94857.000000</td>\n",
              "      <td>88965.000000</td>\n",
              "      <td>69783.000000</td>\n",
              "      <td>69783.000000</td>\n",
              "      <td>69783.000000</td>\n",
              "    </tr>\n",
              "    <tr>\n",
              "      <th>mean</th>\n",
              "      <td>1568.314368</td>\n",
              "      <td>680.684884</td>\n",
              "      <td>43.914591</td>\n",
              "      <td>4.214262</td>\n",
              "      <td>177.821479</td>\n",
              "      <td>785.475689</td>\n",
              "      <td>18.354187</td>\n",
              "      <td>0.134444</td>\n",
              "      <td>1.369849</td>\n",
              "    </tr>\n",
              "    <tr>\n",
              "      <th>std</th>\n",
              "      <td>248.079191</td>\n",
              "      <td>493.233370</td>\n",
              "      <td>25.862597</td>\n",
              "      <td>5.057523</td>\n",
              "      <td>13.497627</td>\n",
              "      <td>796.308794</td>\n",
              "      <td>18.341797</td>\n",
              "      <td>1.600402</td>\n",
              "      <td>1.669331</td>\n",
              "    </tr>\n",
              "    <tr>\n",
              "      <th>min</th>\n",
              "      <td>1345.000000</td>\n",
              "      <td>0.000000</td>\n",
              "      <td>0.000000</td>\n",
              "      <td>0.000000</td>\n",
              "      <td>1.000000</td>\n",
              "      <td>0.000000</td>\n",
              "      <td>0.010000</td>\n",
              "      <td>0.000000</td>\n",
              "      <td>0.560000</td>\n",
              "    </tr>\n",
              "    <tr>\n",
              "      <th>25%</th>\n",
              "      <td>1374.000000</td>\n",
              "      <td>225.000000</td>\n",
              "      <td>21.290000</td>\n",
              "      <td>0.000000</td>\n",
              "      <td>180.000000</td>\n",
              "      <td>76.140000</td>\n",
              "      <td>5.570000</td>\n",
              "      <td>0.000000</td>\n",
              "      <td>0.860000</td>\n",
              "    </tr>\n",
              "    <tr>\n",
              "      <th>50%</th>\n",
              "      <td>1406.000000</td>\n",
              "      <td>620.000000</td>\n",
              "      <td>57.935000</td>\n",
              "      <td>2.560000</td>\n",
              "      <td>180.000000</td>\n",
              "      <td>561.460000</td>\n",
              "      <td>14.600000</td>\n",
              "      <td>0.010000</td>\n",
              "      <td>1.240000</td>\n",
              "    </tr>\n",
              "    <tr>\n",
              "      <th>75%</th>\n",
              "      <td>1856.000000</td>\n",
              "      <td>1094.000000</td>\n",
              "      <td>61.280000</td>\n",
              "      <td>7.010000</td>\n",
              "      <td>180.000000</td>\n",
              "      <td>1262.480000</td>\n",
              "      <td>26.100000</td>\n",
              "      <td>0.070000</td>\n",
              "      <td>1.770000</td>\n",
              "    </tr>\n",
              "    <tr>\n",
              "      <th>max</th>\n",
              "      <td>1956.000000</td>\n",
              "      <td>3374.000000</td>\n",
              "      <td>91.000000</td>\n",
              "      <td>78.410000</td>\n",
              "      <td>180.000000</td>\n",
              "      <td>4294.980000</td>\n",
              "      <td>1267.270000</td>\n",
              "      <td>370.230000</td>\n",
              "      <td>370.910000</td>\n",
              "    </tr>\n",
              "  </tbody>\n",
              "</table>\n",
              "</div>"
            ],
            "text/plain": [
              "         detectorid        volume  ...         delay    traveltime\n",
              "count  94857.000000  94857.000000  ...  69783.000000  69783.000000\n",
              "mean    1568.314368    680.684884  ...      0.134444      1.369849\n",
              "std      248.079191    493.233370  ...      1.600402      1.669331\n",
              "min     1345.000000      0.000000  ...      0.000000      0.560000\n",
              "25%     1374.000000    225.000000  ...      0.000000      0.860000\n",
              "50%     1406.000000    620.000000  ...      0.010000      1.240000\n",
              "75%     1856.000000   1094.000000  ...      0.070000      1.770000\n",
              "max     1956.000000   3374.000000  ...    370.230000    370.910000\n",
              "\n",
              "[8 rows x 9 columns]"
            ]
          },
          "metadata": {
            "tags": []
          },
          "execution_count": 131
        }
      ]
    },
    {
      "cell_type": "code",
      "metadata": {
        "id": "EgzmNxVAt-YE",
        "colab_type": "code",
        "colab": {
          "base_uri": "https://localhost:8080/",
          "height": 306
        },
        "outputId": "21b12f81-16f3-4121-966e-ed6326d39666"
      },
      "source": [
        "data.info()"
      ],
      "execution_count": 132,
      "outputs": [
        {
          "output_type": "stream",
          "text": [
            "<class 'pandas.core.frame.DataFrame'>\n",
            "RangeIndex: 94857 entries, 0 to 94856\n",
            "Data columns (total 10 columns):\n",
            " #   Column         Non-Null Count  Dtype  \n",
            "---  ------         --------------  -----  \n",
            " 0   detectorid     94857 non-null  int64  \n",
            " 1   starttime      94857 non-null  object \n",
            " 2   volume         94857 non-null  int64  \n",
            " 3   speed          92212 non-null  float64\n",
            " 4   occupancy      94857 non-null  float64\n",
            " 5   countreadings  94857 non-null  int64  \n",
            " 6   vmt            88965 non-null  float64\n",
            " 7   vht            69783 non-null  float64\n",
            " 8   delay          69783 non-null  float64\n",
            " 9   traveltime     69783 non-null  float64\n",
            "dtypes: float64(6), int64(3), object(1)\n",
            "memory usage: 7.2+ MB\n"
          ],
          "name": "stdout"
        }
      ]
    },
    {
      "cell_type": "code",
      "metadata": {
        "id": "HlP-k8VipTZM",
        "colab_type": "code",
        "colab": {
          "base_uri": "https://localhost:8080/",
          "height": 34
        },
        "outputId": "e63dd74a-cfab-4cfe-9560-2632a0803d59"
      },
      "source": [
        "data.isnull().values.any()"
      ],
      "execution_count": 133,
      "outputs": [
        {
          "output_type": "execute_result",
          "data": {
            "text/plain": [
              "True"
            ]
          },
          "metadata": {
            "tags": []
          },
          "execution_count": 133
        }
      ]
    },
    {
      "cell_type": "code",
      "metadata": {
        "id": "th5UZu15pVij",
        "colab_type": "code",
        "colab": {
          "base_uri": "https://localhost:8080/",
          "height": 204
        },
        "outputId": "ae8fb7b4-b019-489d-ca47-9b3614917951"
      },
      "source": [
        "data.isnull().sum()"
      ],
      "execution_count": 134,
      "outputs": [
        {
          "output_type": "execute_result",
          "data": {
            "text/plain": [
              "detectorid           0\n",
              "starttime            0\n",
              "volume               0\n",
              "speed             2645\n",
              "occupancy            0\n",
              "countreadings        0\n",
              "vmt               5892\n",
              "vht              25074\n",
              "delay            25074\n",
              "traveltime       25074\n",
              "dtype: int64"
            ]
          },
          "metadata": {
            "tags": []
          },
          "execution_count": 134
        }
      ]
    },
    {
      "cell_type": "code",
      "metadata": {
        "id": "bByonJO1ptH-",
        "colab_type": "code",
        "colab": {
          "base_uri": "https://localhost:8080/",
          "height": 248
        },
        "outputId": "e00d583d-6f6f-4f1e-8ea1-e300e53b2d0e"
      },
      "source": [
        "total = data.isnull().sum()\n",
        "percent = data.isnull().sum()/data.isnull().count()\n",
        "\n",
        "missing_data = pd.concat([total,percent], axis=1, keys=['total', 'percent'])\n",
        "ax = plt.subplots(figsize=(12, 3))\n",
        "sns.barplot(x = missing_data.index, y = missing_data['percent'])\n",
        "plt.xlabel('Features', fontsize=15)\n",
        "plt.ylabel('Percent of missing values', fontsize=15)\n",
        "plt.title('Percent missing data by feature', fontsize=15)\n",
        "plt.show()"
      ],
      "execution_count": 135,
      "outputs": [
        {
          "output_type": "display_data",
          "data": {
            "image/png": "[encoded data removed]",
            "text/plain": [
              "<Figure size 864x216 with 1 Axes>"
            ]
          },
          "metadata": {
            "tags": [],
            "needs_background": "light"
          }
        }
      ]
    },
    {
      "cell_type": "code",
      "metadata": {
        "id": "ZTcoiLNqqRCw",
        "colab_type": "code",
        "colab": {
          "base_uri": "https://localhost:8080/",
          "height": 484
        },
        "outputId": "3df2218d-b9d6-4986-beed-8f6446fb9285"
      },
      "source": [
        "msno.matrix(data, figsize=(10,6))"
      ],
      "execution_count": 136,
      "outputs": [
        {
          "output_type": "execute_result",
          "data": {
            "text/plain": [
              "<matplotlib.axes._subplots.AxesSubplot at 0x7f0f1fa02518>"
            ]
          },
          "metadata": {
            "tags": []
          },
          "execution_count": 136
        },
        {
          "output_type": "display_data",
          "data": {
            "image/png": "[encoded data removed]",
            "text/plain": [
              "<Figure size 720x432 with 2 Axes>"
            ]
          },
          "metadata": {
            "tags": [],
            "needs_background": "light"
          }
        }
      ]
    },
    {
      "cell_type": "markdown",
      "metadata": {
        "id": "Z5dnxFOJwLTd",
        "colab_type": "text"
      },
      "source": [
        "## Data cleaning"
      ]
    },
    {
      "cell_type": "code",
      "metadata": {
        "id": "-GOHH1npwPu0",
        "colab_type": "code",
        "colab": {}
      },
      "source": [
        "data[\"speed\"] = data[\"speed\"].fillna(data[\"speed\"].mean())"
      ],
      "execution_count": 137,
      "outputs": []
    },
    {
      "cell_type": "code",
      "metadata": {
        "id": "K5C6wfRBwc3o",
        "colab_type": "code",
        "colab": {}
      },
      "source": [
        "data[\"vmt\"] = data[\"vmt\"].fillna(data[\"vmt\"].mean())"
      ],
      "execution_count": 138,
      "outputs": []
    },
    {
      "cell_type": "code",
      "metadata": {
        "id": "ItbHZ5k_xbIa",
        "colab_type": "code",
        "colab": {}
      },
      "source": [
        "data[\"vht\"] = data[\"vht\"].fillna(data[\"vht\"].mean())"
      ],
      "execution_count": 139,
      "outputs": []
    },
    {
      "cell_type": "code",
      "metadata": {
        "id": "8An-x-3CxeYg",
        "colab_type": "code",
        "colab": {}
      },
      "source": [
        "data[\"delay\"] = data[\"delay\"].fillna(0.0)"
      ],
      "execution_count": 140,
      "outputs": []
    },
    {
      "cell_type": "code",
      "metadata": {
        "id": "-Hs-5kJexelF",
        "colab_type": "code",
        "colab": {}
      },
      "source": [
        "data[\"traveltime\"] = data[\"traveltime\"].fillna(data[\"traveltime\"].mean())"
      ],
      "execution_count": 141,
      "outputs": []
    },
    {
      "cell_type": "code",
      "metadata": {
        "id": "JRwUT-q3rPQz",
        "colab_type": "code",
        "colab": {
          "base_uri": "https://localhost:8080/",
          "height": 346
        },
        "outputId": "4ac3b75b-7ddf-4efa-fa8e-d0e977333ae5"
      },
      "source": [
        "msno.bar(data, figsize=(10,3), color=\"skyblue\")\n",
        "plt.show()"
      ],
      "execution_count": 142,
      "outputs": [
        {
          "output_type": "display_data",
          "data": {
            "image/png": "[encoded data removed]",
            "text/plain": [
              "<Figure size 720x216 with 3 Axes>"
            ]
          },
          "metadata": {
            "tags": [],
            "needs_background": "light"
          }
        }
      ]
    },
    {
      "cell_type": "code",
      "metadata": {
        "id": "wvKqa2QLx7R0",
        "colab_type": "code",
        "colab": {
          "base_uri": "https://localhost:8080/",
          "height": 306
        },
        "outputId": "01dfb19c-bf26-437e-9ab6-c13cb086c343"
      },
      "source": [
        "data.info()"
      ],
      "execution_count": 143,
      "outputs": [
        {
          "output_type": "stream",
          "text": [
            "<class 'pandas.core.frame.DataFrame'>\n",
            "RangeIndex: 94857 entries, 0 to 94856\n",
            "Data columns (total 10 columns):\n",
            " #   Column         Non-Null Count  Dtype  \n",
            "---  ------         --------------  -----  \n",
            " 0   detectorid     94857 non-null  int64  \n",
            " 1   starttime      94857 non-null  object \n",
            " 2   volume         94857 non-null  int64  \n",
            " 3   speed          94857 non-null  float64\n",
            " 4   occupancy      94857 non-null  float64\n",
            " 5   countreadings  94857 non-null  int64  \n",
            " 6   vmt            94857 non-null  float64\n",
            " 7   vht            94857 non-null  float64\n",
            " 8   delay          94857 non-null  float64\n",
            " 9   traveltime     94857 non-null  float64\n",
            "dtypes: float64(6), int64(3), object(1)\n",
            "memory usage: 7.2+ MB\n"
          ],
          "name": "stdout"
        }
      ]
    },
    {
      "cell_type": "code",
      "metadata": {
        "id": "EJh8oYw9pm70",
        "colab_type": "code",
        "colab": {
          "base_uri": "https://localhost:8080/",
          "height": 204
        },
        "outputId": "c2e27d9f-b84a-48dc-8041-5c69e1f80a69"
      },
      "source": [
        "data.isnull().sum()"
      ],
      "execution_count": 144,
      "outputs": [
        {
          "output_type": "execute_result",
          "data": {
            "text/plain": [
              "detectorid       0\n",
              "starttime        0\n",
              "volume           0\n",
              "speed            0\n",
              "occupancy        0\n",
              "countreadings    0\n",
              "vmt              0\n",
              "vht              0\n",
              "delay            0\n",
              "traveltime       0\n",
              "dtype: int64"
            ]
          },
          "metadata": {
            "tags": []
          },
          "execution_count": 144
        }
      ]
    }
  ]
}